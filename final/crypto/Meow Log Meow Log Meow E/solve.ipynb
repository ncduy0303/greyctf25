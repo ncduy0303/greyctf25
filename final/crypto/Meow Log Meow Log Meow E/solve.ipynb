{
 "cells": [
  {
   "cell_type": "code",
   "execution_count": 8,
   "id": "cef4c83c-99a8-4fd7-9bbe-dc61a61bac3b",
   "metadata": {},
   "outputs": [],
   "source": [
    "from sage.all import *\n",
    "import json\n",
    "from Crypto.Util.number import long_to_bytes\n",
    "\n",
    "data = json.load(open('dist-meow-log-meow-log-meow-e/chall.json'))\n",
    "n, e, c1, c2, po = data['n'], data['e'], data['c1'], data['c2'], data['po']"
   ]
  },
  {
   "cell_type": "code",
   "execution_count": 2,
   "id": "fa9c249b",
   "metadata": {},
   "outputs": [],
   "source": [
    "def e_power(x, field, terms):\n",
    "    \"\"\"\n",
    "    Compute e^x in a finite field using Taylor series approximation.\n",
    "    \n",
    "    Args:\n",
    "        x: element in the finite field\n",
    "        field: the finite field (e.g., GF(p) or GF(p^n))\n",
    "        terms: number of Taylor series terms to compute\n",
    "    \n",
    "    Returns:\n",
    "        approximation of e^x in the finite field as 1 + x + x^2/2! + x^3/3! + ... + x^(terms-1)/(terms-1)!\n",
    "    \"\"\"\n",
    "    result = field(1)  # Start with e^0 = 1\n",
    "    x_power = field(1)  # x^0 = 1\n",
    "    factorial = 1\n",
    "    \n",
    "    for n in range(1, terms):\n",
    "        x_power *= x  # x^n\n",
    "        factorial *= n  # n!\n",
    "        \n",
    "        # In finite fields, we need the multiplicative inverse of factorial\n",
    "        try:\n",
    "            factorial_inv = field(factorial)^(-1)\n",
    "            term = x_power * factorial_inv\n",
    "            result += term\n",
    "        except ZeroDivisionError:\n",
    "            # If factorial is not invertible (divisible by char(field)), skip this term\n",
    "            continue\n",
    "    \n",
    "    return result"
   ]
  },
  {
   "cell_type": "code",
   "execution_count": 3,
   "id": "12b8a646",
   "metadata": {},
   "outputs": [],
   "source": [
    "def naive_gcd(a, b):\n",
    "    \"\"\"\n",
    "    Compute the GCD of two polynomials using the naive method\n",
    "    \"\"\"\n",
    "    while b != 0:\n",
    "        a, b = b, a % b\n",
    "    return a\n"
   ]
  },
  {
   "cell_type": "code",
   "execution_count": 4,
   "id": "6590abcc",
   "metadata": {},
   "outputs": [],
   "source": [
    "def hgcd(a0, a1, n):\n",
    "    \"\"\"\n",
    "    Half GCD (HGCD) algorithm for polynomials\n",
    "    \n",
    "    Sources:\n",
    "    (1) Algorithm: https://web.archive.org/web/20210512230349/https://web.cs.iastate.edu/~cs577/handouts/polydivide.pdf\n",
    "    (2) rkm0959's implementation: https://github.com/rkm0959/Implementations/blob/main/Half_GCD/code.sage\n",
    "    \"\"\"\n",
    "\n",
    "    P.<x> = PolynomialRing(Zmod(n))\n",
    "\n",
    "    # Base case: if deg(a1) ≤ deg(a0)/2, return identity matrix\n",
    "    if a1.degree() <= a0.degree()/2 or a0.degree() == 1:\n",
    "        return matrix(P, [[1, 0], [0, 1]])\n",
    "    \n",
    "    # Calculate m = floor(deg(a0)/2)\n",
    "    m = a0.degree() // 2\n",
    "    \n",
    "    b0, c0 = a0.quo_rem(x^m)  # b0 = coefficients of x^m and higher terms\n",
    "    b1, c1 = a1.quo_rem(x^m)  # b1 = coefficients of x^m and higher terms\n",
    "    \n",
    "    # Recursive call on quotients\n",
    "    R = hgcd(b0, b1, n)\n",
    "    \n",
    "    # Apply the transformation matrix to [a0, a1]\n",
    "    d, e = R * vector([a0, a1])\n",
    "    \n",
    "    q, r = d.quo_rem(e)\n",
    "    \n",
    "    # Calculate floor(m/2) for the next recursion\n",
    "    xm2 = x ^ (m // 2)\n",
    "    \n",
    "    # Split e and f at degree floor(m/2)\n",
    "    g0, h0 = e.quo_rem(xm2)  # g0 = coefficients of x^[m/2] and higher terms\n",
    "    g1, h1 = r.quo_rem(xm2)  # g1 = coefficients of x^[m/2] and higher terms\n",
    "    \n",
    "    # Recursive call on quotients\n",
    "    S = hgcd(g0, g1, n)\n",
    "    \n",
    "    # Return the combined transformation matrix\n",
    "    return S * matrix([[0, 1], [1, -q]]) * R\n",
    "\n",
    "\n",
    "def poly_gcd(a0, a1, n):\n",
    "    \"\"\"\n",
    "    GCD calculation for polynomials using HGCD\n",
    "    \n",
    "    Parameters:\n",
    "    - a0, a1: polynomials in x\n",
    "    \n",
    "    Returns:\n",
    "    - GCD of a0 and a1 (monic)\n",
    "    \"\"\"\n",
    "    # Ensure a0 has higher or equal degree than a1\n",
    "    if a0.degree() < a1.degree():\n",
    "        a0, a1 = a1, a0\n",
    "    \n",
    "    # Base case: if a1 divides a0, return a1 (made monic)\n",
    "    if a0 % a1 == 0:\n",
    "        return a1.monic()\n",
    "    \n",
    "    # Recursive case: use HGCD to speed up the calculation\n",
    "    R = hgcd(a0, a1, n)\n",
    "    b0, b1 = R * vector([a0, a1])\n",
    "    \n",
    "    # Check if b1 divides b0\n",
    "    if b0 % b1 == 0:\n",
    "        return b1.monic()\n",
    "    \n",
    "    # Continue with standard Euclidean algorithm\n",
    "    c = b0 % b1\n",
    "    return poly_gcd(b1, c, n)"
   ]
  },
  {
   "cell_type": "code",
   "execution_count": 5,
   "id": "bc5c0a94-e111-4272-8b41-85d4b9b7c5da",
   "metadata": {},
   "outputs": [],
   "source": [
    "# Convert to polynomial ring\n",
    "F = Zmod(n)\n",
    "R.<x> = PolynomialRing(F)\n",
    "\n",
    "# Create polynomials from the ciphertexts\n",
    "a0 = x^e - c1\n",
    "a1 = e_power(x, F, po)^e - c2"
   ]
  },
  {
   "cell_type": "code",
   "execution_count": null,
   "id": "640fc5f9",
   "metadata": {},
   "outputs": [
    {
     "name": "stdout",
     "output_type": "stream",
     "text": [
      "x + 773094481469452914191820180355932888137411285296201681675647238679182811867016799759752294444602335484001342007091261891167739829179710713033743377713086928858838321238203250127944644442180494166554257140640287666187358232021768574431991525121210520816528107160708263424123954527497753674923849353304523242596408140495576695896537430880132141760596444138848195681561853320074540387048874010002749429119440078121814333551381659545557952573206646347492523210590610136042291472995418637260769973114084442166291491817806972264557417529697859636556105810693043784041062070584218846408479539008172817743913111935229663624164589302463953568329978672321053744058827357861853717623640488830867496322710276759686012168422031324473498094565013413027511804003071117650333618513006072310251194458490624116206774267317730759402362505240393480261651785520635025017684722608686665030671070919613381332381635684454578434832466239954677639314073776667266961688069746502404275799195096227969140687387036072497136246132596191363504636862799107088896540497111517316922249889731154102718650400448009916250056580936709726621875899081443370082132800981886599608192647449293574061884408110439181285931649543422584730684834200760111315472492189741951093660776\n",
      "Found monic linear polynomial at degree 77: 773094481469452914191820180355932888137411285296201681675647238679182811867016799759752294444602335484001342007091261891167739829179710713033743377713086928858838321238203250127944644442180494166554257140640287666187358232021768574431991525121210520816528107160708263424123954527497753674923849353304523242596408140495576695896537430880132141760596444138848195681561853320074540387048874010002749429119440078121814333551381659545557952573206646347492523210590610136042291472995418637260769973114084442166291491817806972264557417529697859636556105810693043784041062070584218846408479539008172817743913111935229663624164589302463953568329978672321053744058827357861853717623640488830867496322710276759686012168422031324473498094565013413027511804003071117650333618513006072310251194458490624116206774267317730759402362505240393480261651785520635025017684722608686665030671070919613381332381635684454578434832466239954677639314073776667266961688069746502404275799195096227969140687387036072497136246132596191363504636862799107088896540497111517316922249889731154102718650400448009916250056580936709726621875899081443370082132800981886599608192647449293574061884408110439181285931649543422584730684834200760111315472492189741951093660776\n"
     ]
    },
    {
     "ename": "NameError",
     "evalue": "name 'long_to_bytes' is not defined",
     "output_type": "error",
     "traceback": [
      "\u001b[0;31m---------------------------------------------------------------------------\u001b[0m",
      "\u001b[0;31mNameError\u001b[0m                                 Traceback (most recent call last)",
      "Cell \u001b[0;32mIn[6], line 11\u001b[0m\n\u001b[1;32m      9\u001b[0m \u001b[38;5;28mprint\u001b[39m(\u001b[38;5;124mf\u001b[39m\u001b[38;5;124m\"\u001b[39m\u001b[38;5;124mFound monic linear polynomial at degree \u001b[39m\u001b[38;5;132;01m{\u001b[39;00mpo\u001b[38;5;132;01m}\u001b[39;00m\u001b[38;5;124m: \u001b[39m\u001b[38;5;132;01m{\u001b[39;00mgcd[Integer(\u001b[38;5;241m0\u001b[39m)]\u001b[38;5;132;01m}\u001b[39;00m\u001b[38;5;124m\"\u001b[39m)\n\u001b[1;32m     10\u001b[0m m \u001b[38;5;241m=\u001b[39m \u001b[38;5;28mint\u001b[39m(\u001b[38;5;241m-\u001b[39mgcd[Integer(\u001b[38;5;241m0\u001b[39m)] \u001b[38;5;241m%\u001b[39m n)\n\u001b[0;32m---> 11\u001b[0m \u001b[38;5;28mprint\u001b[39m(\u001b[38;5;124mf\u001b[39m\u001b[38;5;124m\"\u001b[39m\u001b[38;5;124mMessage (m): \u001b[39m\u001b[38;5;132;01m{\u001b[39;00m\u001b[43mlong_to_bytes\u001b[49m(m)\u001b[38;5;132;01m}\u001b[39;00m\u001b[38;5;124m\"\u001b[39m)\n",
      "\u001b[0;31mNameError\u001b[0m: name 'long_to_bytes' is not defined"
     ]
    }
   ],
   "source": [
    "gcd = poly_gcd(a0, a1, n)\n",
    "# gcd = naive_gcd(a0, a1)\n",
    "gcd = gcd.monic()\n",
    "\n",
    "print(gcd)\n",
    "assert gcd.degree() == 1, \"GCD is not linear\"\n",
    "\n",
    "if gcd.degree() == 1:\n",
    "    print(f\"Found monic linear polynomial at degree {po}: {gcd[0]}\")\n",
    "    m = int(-gcd[0] % n)\n",
    "    print(f\"Message (m): {long_to_bytes(m)}\")"
   ]
  },
  {
   "cell_type": "code",
   "execution_count": 12,
   "id": "7bb1c239",
   "metadata": {},
   "outputs": [
    {
     "name": "stdout",
     "output_type": "stream",
     "text": [
      "Message (m): b'grey{me0w_m3ow_s0lUtioN_t0o_Sl0w_4_m3-oW!!!'\n"
     ]
    }
   ],
   "source": [
    "print(f\"Message (m): {long_to_bytes(m)}\")"
   ]
  },
  {
   "cell_type": "code",
   "execution_count": null,
   "id": "232d1707",
   "metadata": {},
   "outputs": [],
   "source": []
  }
 ],
 "metadata": {
  "kernelspec": {
   "display_name": "SageMath 10.6",
   "language": "sage",
   "name": "sagemath"
  },
  "language_info": {
   "codemirror_mode": {
    "name": "ipython",
    "version": 3
   },
   "file_extension": ".py",
   "mimetype": "text/x-python",
   "name": "python",
   "nbconvert_exporter": "python",
   "pygments_lexer": "ipython3",
   "version": "3.12.11"
  }
 },
 "nbformat": 4,
 "nbformat_minor": 5
}
