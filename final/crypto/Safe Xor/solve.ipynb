{
 "cells": [
  {
   "cell_type": "code",
   "execution_count": null,
   "id": "f71eddb7",
   "metadata": {},
   "outputs": [],
   "source": [
    "from sage.all import *"
   ]
  },
  {
   "cell_type": "code",
   "execution_count": 2,
   "id": "b3ddb19b-a885-4259-809c-f086dc786e1a",
   "metadata": {},
   "outputs": [],
   "source": [
    "final_state = [2, 2, 1, 2, 2, 2, 0, 2, 2, 1, 1, 1, 0, 1, 2, 2, 0, 2, 2, 2, 2, 1, 2, 0, 1, 0, 0, 0, 1, 0, 1, 2, 2, 2, 2, 1, 1, 1, 1, 1, 0, 2, 2, 0, 0, 1, 0, 0, 1, 2, 2, 1, 0, 0, 0, 0, 1, 1, 1, 1, 1, 1, 0, 0, 2, 0, 2, 0, 2, 1, 0, 2, 1, 1, 0, 0, 2, 0, 2, 0, 0, 2, 0, 1, 0, 2, 1, 2, 0, 2, 0, 1, 1, 1, 2, 1, 1, 2, 1, 1, 0, 2, 1, 1, 1, 2, 0, 1, 2, 0, 1, 0, 1, 2, 2, 0, 1, 2, 2, 1, 0, 0, 2, 2, 1, 2, 0, 2, 2, 2, 2, 2, 1, 0, 2, 0, 0, 0, 0, 0, 2, 0, 2, 2, 2, 1, 0, 1, 2, 2, 2, 1, 0, 2, 0, 2, 2, 1, 0, 0, 1, 1, 1, 1, 1, 0, 1, 2, 0, 0, 2, 2, 2, 1, 1, 2, 0, 0, 2, 1, 2, 1, 0, 2, 2, 1, 1, 2, 0, 2, 2, 1, 0, 2, 2, 2, 0, 2, 2, 1, 1, 2, 1, 1, 0, 2, 0, 1, 2, 1, 1, 2, 1, 1, 0, 1, 2, 1, 0, 0, 2, 0, 2, 1, 2, 0, 0, 2, 0, 1, 2, 2, 0, 2, 1, 0, 1, 1, 0]"
   ]
  },
  {
   "cell_type": "code",
   "execution_count": 3,
   "id": "bfd83466-d8d2-495b-97b8-5a7f76c92816",
   "metadata": {},
   "outputs": [],
   "source": [
    "# 2) Build the GF(3) companion matrix of size L×L\n",
    "F = GF(3)\n",
    "L = len(final_state)\n",
    "M = Matrix(F, L, L, lambda i,j: 1 if (i == j-1) else (1 if i == L-1 else 0))"
   ]
  },
  {
   "cell_type": "code",
   "execution_count": 29,
   "id": "e88d0476-625c-4140-b9b4-409ff23a6c6b",
   "metadata": {},
   "outputs": [],
   "source": [
    "# 3) Invert it, then raise to the 2^999 power\n",
    "M_inv     = M.inverse()\n",
    "step_back = M_inv^(2^999)"
   ]
  },
  {
   "cell_type": "code",
   "execution_count": 30,
   "id": "7d88a919-b11d-4d2e-92cb-593da2a02b40",
   "metadata": {},
   "outputs": [],
   "source": [
    "# 4) Apply to your final state vector\n",
    "v_final = vector(F, final_state)\n",
    "v_init  = step_back * v_final"
   ]
  },
  {
   "cell_type": "code",
   "execution_count": 31,
   "id": "6bf42454-83e9-4576-81f6-f1aa9a411423",
   "metadata": {},
   "outputs": [],
   "source": [
    "# 5) Convert GF(3) entries back to bits (1→0, 2→1), pack to ASCII\n",
    "bits = [ (int(v_init[i]) - 1) % 2 for i in range(L) ]\n",
    "flag = \"\".join(\n",
    "    chr(sum(bits[8*k + j] << (7-j) for j in range(8)))\n",
    "    for k in range(L//8)\n",
    ")"
   ]
  },
  {
   "cell_type": "code",
   "execution_count": 32,
   "id": "f86bf60f-332d-4da6-b0cb-684fae0d0950",
   "metadata": {},
   "outputs": [
    {
     "name": "stdout",
     "output_type": "stream",
     "text": [
      "final state:  [2, 2, 1, 2, 2, 2, 0, 2, 2, 1, 1, 1, 0, 1, 2, 2, 0, 2, 2, 2, 2, 1, 2, 0, 1, 0, 0, 0, 1, 0, 1, 2, 2, 2, 2, 1, 1, 1, 1, 1, 0, 2, 2, 0, 0, 1, 0, 0, 1, 2, 2, 1, 0, 0, 0, 0, 1, 1, 1, 1, 1, 1, 0, 0, 2, 0, 2, 0, 2, 1, 0, 2, 1, 1, 0, 0, 2, 0, 2, 0, 0, 2, 0, 1, 0, 2, 1, 2, 0, 2, 0, 1, 1, 1, 2, 1, 1, 2, 1, 1, 0, 2, 1, 1, 1, 2, 0, 1, 2, 0, 1, 0, 1, 2, 2, 0, 1, 2, 2, 1, 0, 0, 2, 2, 1, 2, 0, 2, 2, 2, 2, 2, 1, 0, 2, 0, 0, 0, 0, 0, 2, 0, 2, 2, 2, 1, 0, 1, 2, 2, 2, 1, 0, 2, 0, 2, 2, 1, 0, 0, 1, 1, 1, 1, 1, 0, 1, 2, 0, 0, 2, 2, 2, 1, 1, 2, 0, 0, 2, 1, 2, 1, 0, 2, 2, 1, 1, 2, 0, 2, 2, 1, 0, 2, 2, 2, 0, 2, 2, 1, 1, 2, 1, 1, 0, 2, 0, 1, 2, 1, 1, 2, 1, 1, 0, 1, 2, 1, 0, 0, 2, 0, 2, 1, 2, 0, 0, 2, 0, 1, 2, 2, 0, 2, 1, 0, 1, 1, 0]\n"
     ]
    }
   ],
   "source": [
    "print(\"final state: \", final_state)"
   ]
  },
  {
   "cell_type": "code",
   "execution_count": 33,
   "id": "04169614-fd78-4e83-857a-c2b43afdec18",
   "metadata": {},
   "outputs": [
    {
     "name": "stdout",
     "output_type": "stream",
     "text": [
      "intial state:  (2, 2, 1, 1, 2, 2, 2, 1, 2, 2, 2, 1, 1, 2, 1, 1, 2, 2, 1, 1, 2, 1, 2, 1, 2, 2, 2, 2, 1, 1, 2, 1, 2, 2, 2, 2, 1, 2, 2, 1, 1, 2, 1, 1, 1, 1, 2, 1, 2, 2, 2, 1, 1, 2, 2, 1, 2, 2, 1, 1, 1, 1, 2, 1, 2, 2, 1, 1, 2, 2, 1, 1, 2, 2, 1, 1, 2, 1, 2, 1, 1, 2, 1, 2, 2, 1, 1, 1, 2, 1, 2, 2, 2, 2, 2, 1, 1, 2, 1, 1, 1, 1, 2, 1, 2, 2, 2, 2, 1, 1, 1, 1, 2, 2, 1, 2, 2, 2, 2, 1, 2, 2, 2, 1, 1, 2, 1, 1, 1, 2, 1, 2, 2, 1, 1, 1, 2, 1, 2, 2, 2, 2, 2, 1, 2, 2, 2, 1, 2, 2, 2, 1, 2, 2, 1, 2, 2, 2, 2, 1, 2, 2, 2, 1, 2, 2, 2, 1, 1, 2, 1, 2, 2, 2, 1, 1, 1, 2, 1, 2, 2, 2, 1, 1, 1, 2, 1, 2, 2, 1, 1, 1, 1, 2, 1, 2, 2, 2, 1, 1, 1, 2, 1, 2, 2, 2, 1, 1, 1, 2, 1, 2, 2, 1, 1, 1, 1, 2, 1, 2, 2, 2, 1, 1, 1, 2, 1, 2, 2, 1, 1, 1, 2, 2, 2, 2, 2, 1, 2)\n"
     ]
    }
   ],
   "source": [
    "print(\"intial state: \", v_init)"
   ]
  },
  {
   "cell_type": "code",
   "execution_count": 38,
   "id": "a9d424dc-a676-4989-bf88-61d02a797bc8",
   "metadata": {},
   "outputs": [
    {
     "name": "stdout",
     "output_type": "stream",
     "text": [
      "bits:  [0, 1, 1, 0, 0, 1, 1, 1, 0, 1, 1, 1, 0, 0, 1, 0, 0, 1, 1, 0, 0, 1, 0, 1, 0, 1, 1, 1, 1, 0, 0, 1, 0, 1, 1, 1, 1, 0, 1, 1, 0, 0, 1, 0, 0, 0, 0, 1, 0, 1, 1, 1, 0, 0, 1, 1, 0, 1, 1, 0, 0, 0, 0, 1, 0, 1, 1, 0, 0, 1, 1, 0, 0, 1, 1, 0, 0, 1, 0, 1, 0, 0, 1, 0, 1, 1, 0, 0, 0, 1, 0, 1, 1, 1, 1, 1, 0, 0, 1, 0, 0, 0, 0, 1, 0, 1, 1, 1, 1, 0, 0, 0, 0, 1, 1, 0, 1, 1, 1, 1, 0, 1, 1, 1, 0, 0, 1, 0, 0, 0, 1, 0, 1, 1, 0, 0, 0, 1, 0, 1, 1, 1, 1, 1, 0, 1, 1, 1, 0, 1, 1, 1, 0, 1, 1, 0, 1, 1, 1, 1, 0, 1, 1, 1, 0, 1, 1, 1, 0, 0, 1, 0, 1, 1, 1, 0, 0, 0, 1, 0, 1, 1, 1, 0, 0, 0, 1, 0, 1, 1, 0, 0, 0, 0, 1, 0, 1, 1, 1, 0, 0, 0, 1, 0, 1, 1, 1, 0, 0, 0, 1, 0, 1, 1, 0, 0, 0, 0, 1, 0, 1, 1, 1, 0, 0, 0, 1, 0, 1, 1, 0, 0, 0, 1, 1, 1, 1, 1, 0, 1]\n",
      "length:  240\n"
     ]
    }
   ],
   "source": [
    "modified_bits = [0] + bits\n",
    "print(\"bits: \", modified_bits)\n",
    "print(\"length: \", len(modified_bits))"
   ]
  },
  {
   "cell_type": "code",
   "execution_count": 37,
   "id": "39bd2c03-fec4-45a5-ba75-f60d43b6171a",
   "metadata": {},
   "outputs": [
    {
     "name": "stdout",
     "output_type": "stream",
     "text": [
      "Recovered flag: grey{!safe,_!xor,_wow..,..,.,\n"
     ]
    }
   ],
   "source": [
    "flag = \"\".join(\n",
    "    chr(sum(modified_bits[8*k + j] << (7-j) for j in range(8)))\n",
    "    for k in range(L//8)\n",
    ")\n",
    "\n",
    "print(\"Recovered flag:\", flag)"
   ]
  },
  {
   "cell_type": "code",
   "execution_count": null,
   "id": "cb4b0214-3b59-404a-9f5a-f225784cd43a",
   "metadata": {},
   "outputs": [],
   "source": []
  }
 ],
 "metadata": {
  "kernelspec": {
   "display_name": "SageMath 10.6",
   "language": "sage",
   "name": "sagemath"
  },
  "language_info": {
   "codemirror_mode": {
    "name": "ipython",
    "version": 3
   },
   "file_extension": ".py",
   "mimetype": "text/x-python",
   "name": "python",
   "nbconvert_exporter": "python",
   "pygments_lexer": "ipython3",
   "version": "3.12.11"
  }
 },
 "nbformat": 4,
 "nbformat_minor": 5
}
